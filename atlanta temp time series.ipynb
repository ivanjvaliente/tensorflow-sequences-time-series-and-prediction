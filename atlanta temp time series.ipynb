{
 "cells": [
  {
   "cell_type": "code",
   "execution_count": 1,
   "metadata": {},
   "outputs": [
    {
     "data": {
      "text/html": [
       "<div>\n",
       "<style>\n",
       "    .dataframe thead tr:only-child th {\n",
       "        text-align: right;\n",
       "    }\n",
       "\n",
       "    .dataframe thead th {\n",
       "        text-align: left;\n",
       "    }\n",
       "\n",
       "    .dataframe tbody tr th {\n",
       "        vertical-align: top;\n",
       "    }\n",
       "</style>\n",
       "<table border=\"1\" class=\"dataframe\">\n",
       "  <thead>\n",
       "    <tr style=\"text-align: right;\">\n",
       "      <th></th>\n",
       "      <th>year</th>\n",
       "      <th>jan</th>\n",
       "      <th>fev</th>\n",
       "      <th>mar</th>\n",
       "      <th>apr</th>\n",
       "      <th>may</th>\n",
       "      <th>jun</th>\n",
       "      <th>jul</th>\n",
       "      <th>aug</th>\n",
       "      <th>sep</th>\n",
       "      <th>oct</th>\n",
       "      <th>nov</th>\n",
       "      <th>dec</th>\n",
       "      <th>annual</th>\n",
       "    </tr>\n",
       "  </thead>\n",
       "  <tbody>\n",
       "    <tr>\n",
       "      <th>0</th>\n",
       "      <td>1879</td>\n",
       "      <td>4.29</td>\n",
       "      <td>3.09</td>\n",
       "      <td>2.49</td>\n",
       "      <td>3.98</td>\n",
       "      <td>4.16</td>\n",
       "      <td>3.20</td>\n",
       "      <td>5.75</td>\n",
       "      <td>4.76</td>\n",
       "      <td>1.43</td>\n",
       "      <td>5.44</td>\n",
       "      <td>3.88</td>\n",
       "      <td>7.86</td>\n",
       "      <td>50.33</td>\n",
       "    </tr>\n",
       "    <tr>\n",
       "      <th>1</th>\n",
       "      <td>1880</td>\n",
       "      <td>2.86</td>\n",
       "      <td>3.11</td>\n",
       "      <td>11.87</td>\n",
       "      <td>7.07</td>\n",
       "      <td>4.52</td>\n",
       "      <td>3.57</td>\n",
       "      <td>3.16</td>\n",
       "      <td>3.61</td>\n",
       "      <td>6.21</td>\n",
       "      <td>2.81</td>\n",
       "      <td>8.21</td>\n",
       "      <td>5.70</td>\n",
       "      <td>62.70</td>\n",
       "    </tr>\n",
       "    <tr>\n",
       "      <th>2</th>\n",
       "      <td>1881</td>\n",
       "      <td>8.35</td>\n",
       "      <td>10.41</td>\n",
       "      <td>10.98</td>\n",
       "      <td>4.58</td>\n",
       "      <td>1.27</td>\n",
       "      <td>2.46</td>\n",
       "      <td>0.56</td>\n",
       "      <td>4.10</td>\n",
       "      <td>3.76</td>\n",
       "      <td>3.44</td>\n",
       "      <td>4.30</td>\n",
       "      <td>7.53</td>\n",
       "      <td>61.74</td>\n",
       "    </tr>\n",
       "    <tr>\n",
       "      <th>3</th>\n",
       "      <td>1882</td>\n",
       "      <td>6.40</td>\n",
       "      <td>10.29</td>\n",
       "      <td>4.16</td>\n",
       "      <td>5.21</td>\n",
       "      <td>3.02</td>\n",
       "      <td>3.22</td>\n",
       "      <td>6.61</td>\n",
       "      <td>5.56</td>\n",
       "      <td>3.71</td>\n",
       "      <td>1.35</td>\n",
       "      <td>4.22</td>\n",
       "      <td>4.37</td>\n",
       "      <td>58.12</td>\n",
       "    </tr>\n",
       "    <tr>\n",
       "      <th>4</th>\n",
       "      <td>1883</td>\n",
       "      <td>15.82</td>\n",
       "      <td>3.22</td>\n",
       "      <td>3.73</td>\n",
       "      <td>8.20</td>\n",
       "      <td>2.00</td>\n",
       "      <td>2.31</td>\n",
       "      <td>1.06</td>\n",
       "      <td>2.73</td>\n",
       "      <td>1.38</td>\n",
       "      <td>1.52</td>\n",
       "      <td>4.72</td>\n",
       "      <td>4.84</td>\n",
       "      <td>51.53</td>\n",
       "    </tr>\n",
       "  </tbody>\n",
       "</table>\n",
       "</div>"
      ],
      "text/plain": [
       "   year    jan    fev    mar   apr   may   jun   jul   aug   sep   oct   nov  \\\n",
       "0  1879   4.29   3.09   2.49  3.98  4.16  3.20  5.75  4.76  1.43  5.44  3.88   \n",
       "1  1880   2.86   3.11  11.87  7.07  4.52  3.57  3.16  3.61  6.21  2.81  8.21   \n",
       "2  1881   8.35  10.41  10.98  4.58  1.27  2.46  0.56  4.10  3.76  3.44  4.30   \n",
       "3  1882   6.40  10.29   4.16  5.21  3.02  3.22  6.61  5.56  3.71  1.35  4.22   \n",
       "4  1883  15.82   3.22   3.73  8.20  2.00  2.31  1.06  2.73  1.38  1.52  4.72   \n",
       "\n",
       "    dec  annual  \n",
       "0  7.86   50.33  \n",
       "1  5.70   62.70  \n",
       "2  7.53   61.74  \n",
       "3  4.37   58.12  \n",
       "4  4.84   51.53  "
      ]
     },
     "execution_count": 1,
     "metadata": {},
     "output_type": "execute_result"
    }
   ],
   "source": [
    "import pandas as pd\n",
    "df = pd.read_csv('atlanta temp.csv')\n",
    "df.head()"
   ]
  },
  {
   "cell_type": "code",
   "execution_count": 2,
   "metadata": {},
   "outputs": [
    {
     "data": {
      "text/plain": [
       "140"
      ]
     },
     "execution_count": 2,
     "metadata": {},
     "output_type": "execute_result"
    }
   ],
   "source": [
    "len(df)"
   ]
  },
  {
   "cell_type": "code",
   "execution_count": 4,
   "metadata": {},
   "outputs": [],
   "source": [
    "values_df = df.values"
   ]
  },
  {
   "cell_type": "code",
   "execution_count": 5,
   "metadata": {},
   "outputs": [
    {
     "data": {
      "text/plain": [
       "array([1879, 4.29, 3.09, 2.49, 3.98, 4.16, 3.2, 5.75, 4.76, 1.43, '5.44',\n",
       "       3.88, 7.86, 50.33], dtype=object)"
      ]
     },
     "execution_count": 5,
     "metadata": {},
     "output_type": "execute_result"
    }
   ],
   "source": [
    "values_df[0]"
   ]
  },
  {
   "cell_type": "code",
   "execution_count": 6,
   "metadata": {},
   "outputs": [
    {
     "data": {
      "text/plain": [
       "140"
      ]
     },
     "execution_count": 6,
     "metadata": {},
     "output_type": "execute_result"
    }
   ],
   "source": [
    "len(values_df)"
   ]
  },
  {
   "cell_type": "code",
   "execution_count": 11,
   "metadata": {},
   "outputs": [
    {
     "data": {
      "text/plain": [
       "14"
      ]
     },
     "execution_count": 11,
     "metadata": {},
     "output_type": "execute_result"
    }
   ],
   "source": [
    "len(values_df[0])"
   ]
  },
  {
   "cell_type": "code",
   "execution_count": 12,
   "metadata": {},
   "outputs": [
    {
     "data": {
      "text/plain": [
       "(140, 14)"
      ]
     },
     "execution_count": 12,
     "metadata": {},
     "output_type": "execute_result"
    }
   ],
   "source": [
    "values_df.shape"
   ]
  },
  {
   "cell_type": "code",
   "execution_count": 13,
   "metadata": {},
   "outputs": [
    {
     "data": {
      "text/plain": [
       "array([4.29, 3.09, 2.49, 3.98, 4.16, 3.2, 5.75, 4.76, 1.43, '5.44', 3.88,\n",
       "       7.86], dtype=object)"
      ]
     },
     "execution_count": 13,
     "metadata": {},
     "output_type": "execute_result"
    }
   ],
   "source": [
    "values_df[0][1:-1]"
   ]
  },
  {
   "cell_type": "code",
   "execution_count": 16,
   "metadata": {
    "collapsed": true
   },
   "outputs": [],
   "source": [
    "temp_series = values_df[:,1:-1]"
   ]
  },
  {
   "cell_type": "code",
   "execution_count": 17,
   "metadata": {},
   "outputs": [
    {
     "data": {
      "text/plain": [
       "(140, 12)"
      ]
     },
     "execution_count": 17,
     "metadata": {},
     "output_type": "execute_result"
    }
   ],
   "source": [
    "temp_series.shape"
   ]
  },
  {
   "cell_type": "code",
   "execution_count": 18,
   "metadata": {},
   "outputs": [
    {
     "data": {
      "text/plain": [
       "array([4.29, 3.09, 2.49, 3.98, 4.16, 3.2, 5.75, 4.76, 1.43, '5.44', 3.88,\n",
       "       7.86], dtype=object)"
      ]
     },
     "execution_count": 18,
     "metadata": {},
     "output_type": "execute_result"
    }
   ],
   "source": [
    "temp_series[0]"
   ]
  },
  {
   "cell_type": "code",
   "execution_count": 24,
   "metadata": {},
   "outputs": [
    {
     "data": {
      "text/plain": [
       "1680"
      ]
     },
     "execution_count": 24,
     "metadata": {},
     "output_type": "execute_result"
    }
   ],
   "source": [
    "import numpy as np\n",
    "np.reshape(temp_series,1680, order = False)\n",
    "temp_series.shape\n",
    "140*12"
   ]
  },
  {
   "cell_type": "code",
   "execution_count": 22,
   "metadata": {},
   "outputs": [
    {
     "data": {
      "text/plain": [
       "array([[4.29, 3.09, 2.49, 3.98, 4.16, 3.2, 5.75, 4.76, 1.43, '5.44',\n",
       "        3.88, 7.86],\n",
       "       [2.86, 3.11, 11.87, 7.07, 4.52, 3.57, 3.16, 3.61, 6.21, '2.81',\n",
       "        8.21, 5.7],\n",
       "       [8.35, 10.41, 10.98, 4.58, 1.27, 2.46, 0.56, 4.1, 3.76, '3.44',\n",
       "        4.3, 7.53],\n",
       "       [6.4, 10.29, 4.16, 5.21, 3.02, 3.22, 6.61, 5.56, 3.71, '1.35',\n",
       "        4.22, 4.37],\n",
       "       [15.82, 3.22, 3.73, 8.2, 2.0, 2.31, 1.06, 2.73, 1.38, '1.52',\n",
       "        4.72, 4.84],\n",
       "       [5.2, 5.84, 9.7, 5.86, 1.37, 10.73, 2.42, 2.06, 0.08, '0.70',\n",
       "        2.84, 6.09],\n",
       "       [8.44, 4.14, 4.26, 1.31, 6.08, 4.83, 4.02, 6.92, 6.51, '3.94',\n",
       "        3.98, 2.64],\n",
       "       [7.33, 1.53, 11.16, 2.52, 6.21, 8.68, 2.08, 2.36, 0.53, '0.03',\n",
       "        5.32, 3.03],\n",
       "       [3.52, 3.74, 1.99, 1.38, 1.76, 2.82, 14.11, 7.51, 4.2, '3.28',\n",
       "        0.3, 5.79],\n",
       "       [3.89, 5.91, 8.16, 1.34, 6.86, 4.71, 1.85, 3.89, 14.26, '3.99',\n",
       "        4.7, 5.42],\n",
       "       [6.39, 5.28, 2.49, 2.54, 3.16, 5.03, 8.83, 6.73, 6.32, '2.21',\n",
       "        5.17, 0.6],\n",
       "       [2.95, 3.36, 3.13, 2.04, 6.32, 1.12, 5.37, 3.99, 5.36, '4.89',\n",
       "        0.18, 3.89],\n",
       "       [6.73, 8.5, 10.16, 1.58, 2.17, 4.71, 5.38, 2.59, 1.19, '0.02',\n",
       "        3.26, 3.68],\n",
       "       [8.93, 3.44, 5.71, 4.75, 1.37, 4.65, 3.77, 6.66, 2.9, '0.59',\n",
       "        4.41, 2.89],\n",
       "       [3.02, 5.45, 2.43, 2.48, 4.46, 4.65, 2.13, 4.07, 3.06, '0.39',\n",
       "        1.11, 3.18],\n",
       "       [5.09, 4.98, 2.99, 3.06, 1.49, 1.29, 5.55, 3.7, 5.78, '2.62',\n",
       "        0.92, 3.45]], dtype=object)"
      ]
     },
     "execution_count": 22,
     "metadata": {},
     "output_type": "execute_result"
    }
   ],
   "source": [
    "temp_series[:16]"
   ]
  },
  {
   "cell_type": "code",
   "execution_count": null,
   "metadata": {
    "collapsed": true
   },
   "outputs": [],
   "source": []
  }
 ],
 "metadata": {
  "kernelspec": {
   "display_name": "Python 3",
   "language": "python",
   "name": "python3"
  },
  "language_info": {
   "codemirror_mode": {
    "name": "ipython",
    "version": 3
   },
   "file_extension": ".py",
   "mimetype": "text/x-python",
   "name": "python",
   "nbconvert_exporter": "python",
   "pygments_lexer": "ipython3",
   "version": "3.6.3"
  }
 },
 "nbformat": 4,
 "nbformat_minor": 2
}
